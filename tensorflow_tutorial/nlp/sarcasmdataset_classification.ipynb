{
 "cells": [
  {
   "cell_type": "code",
   "execution_count": 1,
   "metadata": {},
   "outputs": [],
   "source": [
    "import json\n",
    "import numpy as np\n",
    "import tensorflow as tf\n",
    "\n",
    "from tensorflow.keras.preprocessing.text import Tokenizer\n",
    "from tensorflow.keras.preprocessing.sequence import pad_sequences"
   ]
  },
  {
   "cell_type": "code",
   "execution_count": 2,
   "metadata": {},
   "outputs": [],
   "source": [
    "def parse_data(data_path):\n",
    "    for l in open(data_path, 'r'):\n",
    "        yield json.loads(l)"
   ]
  },
  {
   "cell_type": "code",
   "execution_count": 3,
   "metadata": {},
   "outputs": [],
   "source": [
    "data_path = '/Users/gveni/Documents/data/nlp_data/Sarcasm_Headlines_Dataset.json'\n",
    "\n",
    "# load data and parse\n",
    "datastore = list(parse_data(data_path))"
   ]
  },
  {
   "cell_type": "code",
   "execution_count": 4,
   "metadata": {},
   "outputs": [
    {
     "name": "stdout",
     "output_type": "stream",
     "text": [
      "Number of sarcasm articles = 26709\n",
      "Sarcarm examples:\n",
      " [\"former versace store clerk sues over secret 'black code' for minority shoppers\", \"the 'roseanne' revival catches up to our thorny political mood, for better and worse\", \"mom starting to fear son's web series closest thing she will have to grandchild\", 'boehner just wants wife to listen, not come up with alternative debt-reduction ideas', 'j.k. rowling wishes snape happy birthday in the most magical way', \"advancing the world's women\", 'the fascinating case for eating lab-grown meat', 'this ceo will send your kids to school, if you work for his company', 'top snake handler leaves sinking huckabee campaign', \"friday's morning email: inside trump's presser for the ages\"]\n",
      "Number of sarcasm article labels= 26709\n",
      "Sarcarm example labels:\n",
      " [0, 0, 1, 1, 0, 0, 0, 0, 1, 0]\n"
     ]
    }
   ],
   "source": [
    "#  convert parsed data into a list of sentences\n",
    "sentences = []\n",
    "labels = []\n",
    "for item in datastore:\n",
    "    sentences.append(item['headline'])\n",
    "    labels.append(item['is_sarcastic'])\n",
    "\n",
    "print('Number of sarcasm articles =', len(sentences))\n",
    "print('Sarcarm examples:\\n', sentences[:10])\n",
    "print('Number of sarcasm article labels=', len(labels))\n",
    "print('Sarcarm example labels:\\n', labels[:10])"
   ]
  },
  {
   "cell_type": "code",
   "execution_count": 5,
   "metadata": {},
   "outputs": [],
   "source": [
    "# word embedding parameters\n",
    "vocab_sz = 10000\n",
    "embedding_dim = 16\n",
    "max_length = 32\n",
    "trunc_type = 'post'\n",
    "padding_type = 'post'\n",
    "oov_tok = \"<OOV>\"\n",
    "training_sz = 20000\n",
    "num_epochs=30"
   ]
  },
  {
   "cell_type": "code",
   "execution_count": 6,
   "metadata": {},
   "outputs": [
    {
     "name": "stdout",
     "output_type": "stream",
     "text": [
      "Length of training samples = 20000\n",
      "Length of test samples = 6709\n"
     ]
    }
   ],
   "source": [
    "# Divide data into training and test sentences\n",
    "training_sentences = sentences[:training_sz]\n",
    "training_labels  = labels[:training_sz]\n",
    "test_sentences = sentences[training_sz:]\n",
    "test_labels = labels[training_sz:]\n",
    "\n",
    "# convert label arrays to numpy arrays    \n",
    "training_labels_final = np.array(training_labels)  \n",
    "test_labels_final = np.array(test_labels)\n",
    "\n",
    "print('Length of training samples =', len(training_labels_final))\n",
    "print('Length of test samples =', len(test_labels_final))"
   ]
  },
  {
   "cell_type": "code",
   "execution_count": 7,
   "metadata": {},
   "outputs": [],
   "source": [
    "# tokenize sentences\n",
    "tokenizer = Tokenizer(num_words=vocab_sz, oov_token=oov_tok)\n",
    "tokenizer.fit_on_texts(training_sentences)\n",
    "word_index = tokenizer.word_index\n",
    "training_sequences = tokenizer.texts_to_sequences(training_sentences)\n",
    "training_padded = pad_sequences(training_sequences, maxlen=max_length, truncating=trunc_type, padding=padding_type)\n",
    "\n",
    "test_sequences = tokenizer.texts_to_sequences(test_sentences)\n",
    "test_padded = pad_sequences(test_sequences, maxlen=max_length, truncating=trunc_type, padding=padding_type)"
   ]
  },
  {
   "cell_type": "code",
   "execution_count": 10,
   "metadata": {
    "collapsed": true
   },
   "outputs": [
    {
     "name": "stdout",
     "output_type": "stream",
     "text": [
      "Model: \"sequential_1\"\n",
      "_________________________________________________________________\n",
      "Layer (type)                 Output Shape              Param #   \n",
      "=================================================================\n",
      "embedding_2 (Embedding)      (None, 32, 16)            160000    \n",
      "_________________________________________________________________\n",
      "global_average_pooling1d_1 ( (None, 16)                0         \n",
      "_________________________________________________________________\n",
      "dense_2 (Dense)              (None, 24)                408       \n",
      "_________________________________________________________________\n",
      "dense_3 (Dense)              (None, 1)                 25        \n",
      "=================================================================\n",
      "Total params: 160,433\n",
      "Trainable params: 160,433\n",
      "Non-trainable params: 0\n",
      "_________________________________________________________________\n"
     ]
    }
   ],
   "source": [
    "model = tf.keras.Sequential([\n",
    "    tf.keras.layers.Embedding(vocab_sz, embedding_dim, input_length=max_length),\n",
    "    tf.keras.layers.GlobalAveragePooling1D(),\n",
    "    tf.keras.layers.Dense(24, activation='relu'),\n",
    "    tf.keras.layers.Dense(1, activation='sigmoid')\n",
    "])\n",
    "\n",
    "model.compile(loss='binary_crossentropy', optimizer='adam', metrics=['accuracy'])\n",
    "model.summary()"
   ]
  },
  {
   "cell_type": "code",
   "execution_count": 11,
   "metadata": {
    "collapsed": true
   },
   "outputs": [
    {
     "name": "stdout",
     "output_type": "stream",
     "text": [
      "Train on 20000 samples, validate on 6709 samples\n",
      "Epoch 1/30\n",
      "20000/20000 - 2s - loss: 0.5740 - accuracy: 0.6912 - val_loss: 0.4047 - val_accuracy: 0.8256\n",
      "Epoch 2/30\n",
      "20000/20000 - 1s - loss: 0.3156 - accuracy: 0.8737 - val_loss: 0.3434 - val_accuracy: 0.8539\n",
      "Epoch 3/30\n",
      "20000/20000 - 1s - loss: 0.2369 - accuracy: 0.9065 - val_loss: 0.3544 - val_accuracy: 0.8459\n",
      "Epoch 4/30\n",
      "20000/20000 - 1s - loss: 0.1913 - accuracy: 0.9270 - val_loss: 0.3608 - val_accuracy: 0.8539\n",
      "Epoch 5/30\n",
      "20000/20000 - 2s - loss: 0.1576 - accuracy: 0.9431 - val_loss: 0.3991 - val_accuracy: 0.8453\n",
      "Epoch 6/30\n",
      "20000/20000 - 1s - loss: 0.1349 - accuracy: 0.9514 - val_loss: 0.4203 - val_accuracy: 0.8474\n",
      "Epoch 7/30\n",
      "20000/20000 - 1s - loss: 0.1150 - accuracy: 0.9610 - val_loss: 0.4565 - val_accuracy: 0.8445\n",
      "Epoch 8/30\n",
      "20000/20000 - 1s - loss: 0.0987 - accuracy: 0.9670 - val_loss: 0.5086 - val_accuracy: 0.8363\n",
      "Epoch 9/30\n",
      "20000/20000 - 1s - loss: 0.0867 - accuracy: 0.9715 - val_loss: 0.5590 - val_accuracy: 0.8332\n",
      "Epoch 10/30\n",
      "20000/20000 - 1s - loss: 0.0743 - accuracy: 0.9757 - val_loss: 0.5968 - val_accuracy: 0.8329\n",
      "Epoch 11/30\n",
      "20000/20000 - 1s - loss: 0.0653 - accuracy: 0.9797 - val_loss: 0.6476 - val_accuracy: 0.8275\n",
      "Epoch 12/30\n",
      "20000/20000 - 1s - loss: 0.0556 - accuracy: 0.9832 - val_loss: 0.7352 - val_accuracy: 0.8162\n",
      "Epoch 13/30\n",
      "20000/20000 - 1s - loss: 0.0500 - accuracy: 0.9845 - val_loss: 0.7614 - val_accuracy: 0.8225\n",
      "Epoch 14/30\n",
      "20000/20000 - 2s - loss: 0.0438 - accuracy: 0.9865 - val_loss: 0.8273 - val_accuracy: 0.8171\n",
      "Epoch 15/30\n",
      "20000/20000 - 1s - loss: 0.0391 - accuracy: 0.9890 - val_loss: 0.8955 - val_accuracy: 0.8173\n",
      "Epoch 16/30\n",
      "20000/20000 - 1s - loss: 0.0337 - accuracy: 0.9903 - val_loss: 0.9353 - val_accuracy: 0.8155\n",
      "Epoch 17/30\n",
      "20000/20000 - 1s - loss: 0.0299 - accuracy: 0.9917 - val_loss: 1.0216 - val_accuracy: 0.8110\n",
      "Epoch 18/30\n",
      "20000/20000 - 1s - loss: 0.0265 - accuracy: 0.9923 - val_loss: 1.0866 - val_accuracy: 0.8109\n",
      "Epoch 19/30\n",
      "20000/20000 - 1s - loss: 0.0234 - accuracy: 0.9934 - val_loss: 1.1255 - val_accuracy: 0.8092\n",
      "Epoch 20/30\n",
      "20000/20000 - 1s - loss: 0.0213 - accuracy: 0.9943 - val_loss: 1.2129 - val_accuracy: 0.8086\n",
      "Epoch 21/30\n",
      "20000/20000 - 1s - loss: 0.0181 - accuracy: 0.9952 - val_loss: 1.2484 - val_accuracy: 0.8100\n",
      "Epoch 22/30\n",
      "20000/20000 - 1s - loss: 0.0165 - accuracy: 0.9953 - val_loss: 1.3038 - val_accuracy: 0.8070\n",
      "Epoch 23/30\n",
      "20000/20000 - 1s - loss: 0.0150 - accuracy: 0.9963 - val_loss: 1.3885 - val_accuracy: 0.8071\n",
      "Epoch 24/30\n",
      "20000/20000 - 1s - loss: 0.0138 - accuracy: 0.9963 - val_loss: 1.4148 - val_accuracy: 0.8062\n",
      "Epoch 25/30\n",
      "20000/20000 - 1s - loss: 0.0129 - accuracy: 0.9964 - val_loss: 1.5141 - val_accuracy: 0.8077\n",
      "Epoch 26/30\n",
      "20000/20000 - 1s - loss: 0.0118 - accuracy: 0.9967 - val_loss: 1.5439 - val_accuracy: 0.8034\n",
      "Epoch 27/30\n",
      "20000/20000 - 1s - loss: 0.0106 - accuracy: 0.9972 - val_loss: 1.6121 - val_accuracy: 0.8038\n",
      "Epoch 28/30\n",
      "20000/20000 - 1s - loss: 0.0089 - accuracy: 0.9976 - val_loss: 1.6897 - val_accuracy: 0.8043\n",
      "Epoch 29/30\n",
      "20000/20000 - 1s - loss: 0.0101 - accuracy: 0.9967 - val_loss: 1.6993 - val_accuracy: 0.8028\n",
      "Epoch 30/30\n",
      "20000/20000 - 1s - loss: 0.0073 - accuracy: 0.9981 - val_loss: 1.7599 - val_accuracy: 0.8028\n"
     ]
    }
   ],
   "source": [
    "history = model.fit(training_padded, training_labels_final,\n",
    "          epochs=num_epochs, \n",
    "          validation_data=(test_padded, test_labels_final), \n",
    "          verbose=2)"
   ]
  },
  {
   "cell_type": "code",
   "execution_count": 12,
   "metadata": {},
   "outputs": [],
   "source": [
    "import matplotlib.pyplot as plt\n",
    "\n",
    "def plot_graphs(history, string):\n",
    "    plt.plot(history.history[string])\n",
    "    plt.plot(history.history['val_'+string])\n",
    "    plt.xlabel(\"Epochs\")\n",
    "    plt.ylabel(string)\n",
    "    plt.legend([string,'val_'+string])\n",
    "    plt.show()\n"
   ]
  },
  {
   "cell_type": "code",
   "execution_count": 13,
   "metadata": {
    "collapsed": true
   },
   "outputs": [
    {
     "data": {
      "image/png": "[encoded data removed]",
      "text/plain": [
       "<Figure size 432x288 with 1 Axes>"
      ]
     },
     "metadata": {
      "needs_background": "light"
     },
     "output_type": "display_data"
    },
    {
     "data": {
      "image/png": "[encoded data removed]",
      "text/plain": [
       "<Figure size 432x288 with 1 Axes>"
      ]
     },
     "metadata": {
      "needs_background": "light"
     },
     "output_type": "display_data"
    }
   ],
   "source": [
    "plot_graphs(history, \"accuracy\")\n",
    "plot_graphs(history, \"loss\")"
   ]
  },
  {
   "cell_type": "markdown",
   "metadata": {},
   "source": [
    "# LSTM modeling"
   ]
  },
  {
   "cell_type": "markdown",
   "metadata": {},
   "source": [
    "Apply bidirectional LSTM model on top of embedding"
   ]
  },
  {
   "cell_type": "code",
   "execution_count": 16,
   "metadata": {},
   "outputs": [
    {
     "name": "stdout",
     "output_type": "stream",
     "text": [
      "Model: \"sequential_4\"\n",
      "_________________________________________________________________\n",
      "Layer (type)                 Output Shape              Param #   \n",
      "=================================================================\n",
      "embedding_5 (Embedding)      (None, 32, 16)            160000    \n",
      "_________________________________________________________________\n",
      "bidirectional_2 (Bidirection (None, 64)                12544     \n",
      "_________________________________________________________________\n",
      "dense_8 (Dense)              (None, 24)                1560      \n",
      "_________________________________________________________________\n",
      "dense_9 (Dense)              (None, 1)                 25        \n",
      "=================================================================\n",
      "Total params: 174,129\n",
      "Trainable params: 174,129\n",
      "Non-trainable params: 0\n",
      "_________________________________________________________________\n"
     ]
    }
   ],
   "source": [
    "lstm_model = tf.keras.Sequential([\n",
    "        tf.keras.layers.Embedding(vocab_sz, embedding_dim, input_length=max_length),\n",
    "        tf.keras.layers.Bidirectional(tf.keras.layers.LSTM(32,)),\n",
    "        tf.keras.layers.Dense(24, activation='relu'),\n",
    "        tf.keras.layers.Dense(1,activation='sigmoid')\n",
    "])\n",
    "\n",
    "lstm_model.compile(loss='binary_crossentropy', optimizer='adam', metrics=['accuracy'])\n",
    "lstm_model.summary()"
   ]
  },
  {
   "cell_type": "code",
   "execution_count": 17,
   "metadata": {},
   "outputs": [
    {
     "name": "stdout",
     "output_type": "stream",
     "text": [
      "Train on 20000 samples, validate on 6709 samples\n",
      "Epoch 1/30\n",
      "20000/20000 - 12s - loss: 0.4280 - accuracy: 0.7817 - val_loss: 0.3291 - val_accuracy: 0.8560\n",
      "Epoch 2/30\n",
      "20000/20000 - 9s - loss: 0.2210 - accuracy: 0.9086 - val_loss: 0.3402 - val_accuracy: 0.8550\n",
      "Epoch 3/30\n",
      "20000/20000 - 9s - loss: 0.1398 - accuracy: 0.9477 - val_loss: 0.3760 - val_accuracy: 0.8520\n",
      "Epoch 4/30\n",
      "20000/20000 - 9s - loss: 0.0872 - accuracy: 0.9693 - val_loss: 0.5173 - val_accuracy: 0.8444\n",
      "Epoch 5/30\n",
      "20000/20000 - 9s - loss: 0.0542 - accuracy: 0.9824 - val_loss: 0.6194 - val_accuracy: 0.8392\n",
      "Epoch 6/30\n",
      "20000/20000 - 9s - loss: 0.0331 - accuracy: 0.9898 - val_loss: 0.7581 - val_accuracy: 0.8362\n",
      "Epoch 7/30\n",
      "20000/20000 - 9s - loss: 0.0235 - accuracy: 0.9930 - val_loss: 0.8127 - val_accuracy: 0.8380\n",
      "Epoch 8/30\n",
      "20000/20000 - 9s - loss: 0.0176 - accuracy: 0.9952 - val_loss: 0.9187 - val_accuracy: 0.8290\n",
      "Epoch 9/30\n",
      "20000/20000 - 8s - loss: 0.0128 - accuracy: 0.9960 - val_loss: 0.9493 - val_accuracy: 0.8337\n",
      "Epoch 10/30\n",
      "20000/20000 - 9s - loss: 0.0099 - accuracy: 0.9966 - val_loss: 0.9799 - val_accuracy: 0.8289\n",
      "Epoch 11/30\n",
      "20000/20000 - 9s - loss: 0.0103 - accuracy: 0.9966 - val_loss: 0.9625 - val_accuracy: 0.8265\n",
      "Epoch 12/30\n",
      "20000/20000 - 8s - loss: 0.0083 - accuracy: 0.9976 - val_loss: 1.1372 - val_accuracy: 0.8275\n",
      "Epoch 13/30\n",
      "20000/20000 - 8s - loss: 0.0090 - accuracy: 0.9967 - val_loss: 1.1184 - val_accuracy: 0.8310\n",
      "Epoch 14/30\n",
      "20000/20000 - 8s - loss: 0.0059 - accuracy: 0.9984 - val_loss: 1.3861 - val_accuracy: 0.8256\n",
      "Epoch 15/30\n",
      "20000/20000 - 9s - loss: 0.0054 - accuracy: 0.9984 - val_loss: 1.2778 - val_accuracy: 0.8281\n",
      "Epoch 16/30\n",
      "20000/20000 - 9s - loss: 0.0050 - accuracy: 0.9984 - val_loss: 1.3442 - val_accuracy: 0.8275\n",
      "Epoch 17/30\n",
      "20000/20000 - 9s - loss: 0.0032 - accuracy: 0.9990 - val_loss: 1.4325 - val_accuracy: 0.8255\n",
      "Epoch 18/30\n",
      "20000/20000 - 11s - loss: 0.0047 - accuracy: 0.9986 - val_loss: 1.3115 - val_accuracy: 0.8196\n",
      "Epoch 19/30\n",
      "20000/20000 - 11s - loss: 0.0085 - accuracy: 0.9972 - val_loss: 1.2534 - val_accuracy: 0.8216\n",
      "Epoch 20/30\n",
      "20000/20000 - 11s - loss: 0.0043 - accuracy: 0.9987 - val_loss: 1.4898 - val_accuracy: 0.8195\n",
      "Epoch 21/30\n",
      "20000/20000 - 11s - loss: 0.0022 - accuracy: 0.9994 - val_loss: 1.5174 - val_accuracy: 0.8229\n",
      "Epoch 22/30\n",
      "20000/20000 - 10s - loss: 0.0017 - accuracy: 0.9995 - val_loss: 1.5274 - val_accuracy: 0.8225\n",
      "Epoch 23/30\n",
      "20000/20000 - 10s - loss: 0.0015 - accuracy: 0.9995 - val_loss: 1.5035 - val_accuracy: 0.8210\n",
      "Epoch 24/30\n",
      "20000/20000 - 10s - loss: 0.0022 - accuracy: 0.9993 - val_loss: 1.5803 - val_accuracy: 0.8186\n",
      "Epoch 25/30\n",
      "20000/20000 - 10s - loss: 0.0048 - accuracy: 0.9985 - val_loss: 1.2569 - val_accuracy: 0.8152\n",
      "Epoch 26/30\n",
      "20000/20000 - 11s - loss: 0.0047 - accuracy: 0.9984 - val_loss: 1.3619 - val_accuracy: 0.8185\n",
      "Epoch 27/30\n",
      "20000/20000 - 10s - loss: 0.0034 - accuracy: 0.9990 - val_loss: 1.4229 - val_accuracy: 0.8199\n",
      "Epoch 28/30\n",
      "20000/20000 - 11s - loss: 0.0030 - accuracy: 0.9991 - val_loss: 1.5194 - val_accuracy: 0.8182\n",
      "Epoch 29/30\n",
      "20000/20000 - 10s - loss: 0.0016 - accuracy: 0.9994 - val_loss: 1.5044 - val_accuracy: 0.8170\n",
      "Epoch 30/30\n",
      "20000/20000 - 11s - loss: 8.9794e-04 - accuracy: 0.9998 - val_loss: 1.5791 - val_accuracy: 0.8188\n"
     ]
    }
   ],
   "source": [
    "lstm_history = lstm_model.fit(training_padded,training_labels_final,\n",
    "                             epochs = num_epochs,\n",
    "                             validation_data = (test_padded, test_labels_final),\n",
    "                             verbose=2)"
   ]
  },
  {
   "cell_type": "code",
   "execution_count": 18,
   "metadata": {},
   "outputs": [
    {
     "data": {
      "image/png": "[encoded data removed]",
      "text/plain": [
       "<Figure size 432x288 with 1 Axes>"
      ]
     },
     "metadata": {
      "needs_background": "light"
     },
     "output_type": "display_data"
    },
    {
     "data": {
      "image/png": "[encoded data removed]",
      "text/plain": [
       "<Figure size 432x288 with 1 Axes>"
      ]
     },
     "metadata": {
      "needs_background": "light"
     },
     "output_type": "display_data"
    }
   ],
   "source": [
    "plot_graphs(lstm_history, \"accuracy\")\n",
    "plot_graphs(lstm_history, \"loss\")"
   ]
  },
  {
   "cell_type": "markdown",
   "metadata": {},
   "source": [
    "# Apply 1D Convolution filter on top of embedding"
   ]
  },
  {
   "cell_type": "code",
   "execution_count": 33,
   "metadata": {},
   "outputs": [
    {
     "name": "stdout",
     "output_type": "stream",
     "text": [
      "Model: \"sequential_11\"\n",
      "_________________________________________________________________\n",
      "Layer (type)                 Output Shape              Param #   \n",
      "=================================================================\n",
      "embedding_12 (Embedding)     (None, 32, 16)            160000    \n",
      "_________________________________________________________________\n",
      "conv1d_6 (Conv1D)            (None, 28, 128)           10368     \n",
      "_________________________________________________________________\n",
      "global_max_pooling1d_5 (Glob (None, 128)               0         \n",
      "_________________________________________________________________\n",
      "dense_22 (Dense)             (None, 24)                3096      \n",
      "_________________________________________________________________\n",
      "dense_23 (Dense)             (None, 1)                 25        \n",
      "=================================================================\n",
      "Total params: 173,489\n",
      "Trainable params: 173,489\n",
      "Non-trainable params: 0\n",
      "_________________________________________________________________\n"
     ]
    }
   ],
   "source": [
    "conv_model = tf.keras.Sequential([\n",
    "        tf.keras.layers.Embedding(vocab_sz, embedding_dim, input_length=max_length),\n",
    "        tf.keras.layers.Conv1D(128, 5, activation='relu'),\n",
    "        tf.keras.layers.GlobalMaxPooling1D(),\n",
    "        tf.keras.layers.Dense(24, activation='relu'),\n",
    "        tf.keras.layers.Dense(1,activation='sigmoid')\n",
    "])\n",
    "\n",
    "conv_model.compile(loss='binary_crossentropy', optimizer='adam', metrics=['accuracy'])\n",
    "conv_model.summary()"
   ]
  },
  {
   "cell_type": "code",
   "execution_count": 34,
   "metadata": {},
   "outputs": [
    {
     "name": "stdout",
     "output_type": "stream",
     "text": [
      "Train on 20000 samples, validate on 6709 samples\n",
      "Epoch 1/30\n",
      "20000/20000 - 3s - loss: 0.4395 - accuracy: 0.7815 - val_loss: 0.3505 - val_accuracy: 0.8520\n",
      "Epoch 2/30\n",
      "20000/20000 - 2s - loss: 0.2194 - accuracy: 0.9121 - val_loss: 0.3680 - val_accuracy: 0.8512\n",
      "Epoch 3/30\n",
      "20000/20000 - 3s - loss: 0.1011 - accuracy: 0.9642 - val_loss: 0.4794 - val_accuracy: 0.8416\n",
      "Epoch 4/30\n",
      "20000/20000 - 2s - loss: 0.0373 - accuracy: 0.9888 - val_loss: 0.6228 - val_accuracy: 0.8368\n",
      "Epoch 5/30\n",
      "20000/20000 - 2s - loss: 0.0121 - accuracy: 0.9974 - val_loss: 0.7521 - val_accuracy: 0.8427\n",
      "Epoch 6/30\n",
      "20000/20000 - 2s - loss: 0.0047 - accuracy: 0.9991 - val_loss: 0.8410 - val_accuracy: 0.8425\n",
      "Epoch 7/30\n",
      "20000/20000 - 2s - loss: 0.0026 - accuracy: 0.9992 - val_loss: 0.9174 - val_accuracy: 0.8420\n",
      "Epoch 8/30\n",
      "20000/20000 - 3s - loss: 0.0021 - accuracy: 0.9993 - val_loss: 0.9890 - val_accuracy: 0.8386\n",
      "Epoch 9/30\n",
      "20000/20000 - 3s - loss: 0.0013 - accuracy: 0.9995 - val_loss: 1.1037 - val_accuracy: 0.8377\n",
      "Epoch 10/30\n",
      "20000/20000 - 3s - loss: 0.0028 - accuracy: 0.9988 - val_loss: 1.1964 - val_accuracy: 0.8287\n",
      "Epoch 11/30\n",
      "20000/20000 - 2s - loss: 0.0092 - accuracy: 0.9967 - val_loss: 1.1796 - val_accuracy: 0.8287\n",
      "Epoch 12/30\n",
      "20000/20000 - 2s - loss: 0.0098 - accuracy: 0.9963 - val_loss: 1.1576 - val_accuracy: 0.8256\n",
      "Epoch 13/30\n",
      "20000/20000 - 2s - loss: 0.0051 - accuracy: 0.9979 - val_loss: 1.2275 - val_accuracy: 0.8296\n",
      "Epoch 14/30\n",
      "20000/20000 - 2s - loss: 0.0023 - accuracy: 0.9991 - val_loss: 1.3158 - val_accuracy: 0.8311\n",
      "Epoch 15/30\n",
      "20000/20000 - 2s - loss: 8.4534e-04 - accuracy: 0.9997 - val_loss: 1.3533 - val_accuracy: 0.8307\n",
      "Epoch 16/30\n",
      "20000/20000 - 3s - loss: 8.5782e-04 - accuracy: 0.9997 - val_loss: 1.3605 - val_accuracy: 0.8280\n",
      "Epoch 17/30\n",
      "20000/20000 - 2s - loss: 7.9222e-04 - accuracy: 0.9997 - val_loss: 1.4210 - val_accuracy: 0.8287\n",
      "Epoch 18/30\n",
      "20000/20000 - 2s - loss: 7.7910e-04 - accuracy: 0.9997 - val_loss: 1.4868 - val_accuracy: 0.8249\n",
      "Epoch 19/30\n",
      "20000/20000 - 2s - loss: 6.8781e-04 - accuracy: 0.9996 - val_loss: 1.4296 - val_accuracy: 0.8278\n",
      "Epoch 20/30\n",
      "20000/20000 - 2s - loss: 6.6385e-04 - accuracy: 0.9998 - val_loss: 1.4320 - val_accuracy: 0.8284\n",
      "Epoch 21/30\n",
      "20000/20000 - 2s - loss: 8.5528e-04 - accuracy: 0.9997 - val_loss: 1.4867 - val_accuracy: 0.8284\n",
      "Epoch 22/30\n",
      "20000/20000 - 3s - loss: 5.7634e-04 - accuracy: 0.9997 - val_loss: 1.5285 - val_accuracy: 0.8280\n",
      "Epoch 23/30\n",
      "20000/20000 - 3s - loss: 4.9790e-04 - accuracy: 0.9998 - val_loss: 1.7016 - val_accuracy: 0.8213\n",
      "Epoch 24/30\n",
      "20000/20000 - 3s - loss: 0.0060 - accuracy: 0.9980 - val_loss: 1.7036 - val_accuracy: 0.8213\n",
      "Epoch 25/30\n",
      "20000/20000 - 3s - loss: 0.0040 - accuracy: 0.9984 - val_loss: 1.5529 - val_accuracy: 0.8204\n",
      "Epoch 26/30\n",
      "20000/20000 - 2s - loss: 0.0019 - accuracy: 0.9991 - val_loss: 1.6293 - val_accuracy: 0.8229\n",
      "Epoch 27/30\n",
      "20000/20000 - 2s - loss: 6.7977e-04 - accuracy: 0.9995 - val_loss: 1.6543 - val_accuracy: 0.8222\n",
      "Epoch 28/30\n",
      "20000/20000 - 2s - loss: 5.7767e-04 - accuracy: 0.9997 - val_loss: 1.6887 - val_accuracy: 0.8216\n",
      "Epoch 29/30\n",
      "20000/20000 - 3s - loss: 5.4369e-04 - accuracy: 0.9998 - val_loss: 1.7149 - val_accuracy: 0.8205\n",
      "Epoch 30/30\n",
      "20000/20000 - 2s - loss: 4.7774e-04 - accuracy: 0.9998 - val_loss: 1.7494 - val_accuracy: 0.8217\n"
     ]
    }
   ],
   "source": [
    "conv_history = conv_model.fit(training_padded,training_labels_final,\n",
    "                             epochs = num_epochs,\n",
    "                             validation_data = (test_padded, test_labels_final),\n",
    "                             verbose=2)"
   ]
  },
  {
   "cell_type": "code",
   "execution_count": 36,
   "metadata": {},
   "outputs": [
    {
     "data": {
      "image/png": "[encoded data removed]",
      "text/plain": [
       "<Figure size 432x288 with 1 Axes>"
      ]
     },
     "metadata": {
      "needs_background": "light"
     },
     "output_type": "display_data"
    },
    {
     "data": {
      "image/png": "[encoded data removed]",
      "text/plain": [
       "<Figure size 432x288 with 1 Axes>"
      ]
     },
     "metadata": {
      "needs_background": "light"
     },
     "output_type": "display_data"
    }
   ],
   "source": [
    "plot_graphs(conv_history, \"accuracy\")\n",
    "plot_graphs(conv_history, \"loss\")"
   ]
  },
  {
   "cell_type": "code",
   "execution_count": null,
   "metadata": {},
   "outputs": [],
   "source": []
  }
 ],
 "metadata": {
  "kernelspec": {
   "display_name": "tensorflowkeras_learning",
   "language": "python",
   "name": "tensorflowkeras_learning"
  },
  "language_info": {
   "codemirror_mode": {
    "name": "ipython",
    "version": 3
   },
   "file_extension": ".py",
   "mimetype": "text/x-python",
   "name": "python",
   "nbconvert_exporter": "python",
   "pygments_lexer": "ipython3",
   "version": "3.6.10"
  }
 },
 "nbformat": 4,
 "nbformat_minor": 4
}
