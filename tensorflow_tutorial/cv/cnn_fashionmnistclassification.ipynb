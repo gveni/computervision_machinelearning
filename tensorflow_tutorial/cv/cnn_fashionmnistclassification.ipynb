{
 "cells": [
  {
   "cell_type": "code",
   "execution_count": 1,
   "metadata": {},
   "outputs": [],
   "source": [
    "# import python libraries\n",
    "import tensorflow as tf\n",
    "import numpy as np\n",
    "from tensorflow import keras\n",
    "import matplotlib.pyplot as plt  # For visualizations"
   ]
  },
  {
   "cell_type": "code",
   "execution_count": 2,
   "metadata": {},
   "outputs": [],
   "source": [
    "# model hyper-parameters\n",
    "num_epochs = 10\n",
    "LR = 0.005"
   ]
  },
  {
   "cell_type": "code",
   "execution_count": 3,
   "metadata": {},
   "outputs": [],
   "source": [
    "# class to handle callback\n",
    "class myCallback(keras.callbacks.Callback):\n",
    "    def on_epoch_end(self, epoch, logs={}):\n",
    "        if logs.get('loss') < 0.1:\n",
    "            print(\"\\nReached accuracy > 60%, so terminating training\")\n",
    "            self.model.stop_training=True"
   ]
  },
  {
   "cell_type": "code",
   "execution_count": 4,
   "metadata": {},
   "outputs": [],
   "source": [
    "callbacks = myCallback()  # create callback object"
   ]
  },
  {
   "cell_type": "code",
   "execution_count": 5,
   "metadata": {},
   "outputs": [
    {
     "name": "stdout",
     "output_type": "stream",
     "text": [
      "Size of training set: 60000\n",
      "Size of test set: 10000\n"
     ]
    }
   ],
   "source": [
    "# load data\n",
    "fashion_mnist = keras.datasets.fashion_mnist\n",
    "(training_images, training_labels), (test_images, test_labels) = fashion_mnist.load_data()\n",
    "print('Size of training set:', len(training_images))\n",
    "print('Size of test set:', len(test_images))"
   ]
  },
  {
   "cell_type": "code",
   "execution_count": 6,
   "metadata": {},
   "outputs": [
    {
     "name": "stdout",
     "output_type": "stream",
     "text": [
      "Shape of training set: (60000, 28, 28, 1)\n",
      "Shape of test set: (10000, 28, 28, 1)\n"
     ]
    }
   ],
   "source": [
    "# reshape and scale images to [0 <-> 1]\n",
    "training_images = training_images.reshape(len(training_images), len(training_images[0]), len(training_images[0][0]), 1)\n",
    "training_images = training_images/255.\n",
    "test_images = test_images.reshape(len(test_images), len(test_images[0]), len(test_images[0][0]), 1)\n",
    "test_images = test_images/255.\n",
    "print('Shape of training set:', np.shape(training_images))\n",
    "print('Shape of test set:', np.shape(test_images))"
   ]
  },
  {
   "cell_type": "code",
   "execution_count": 7,
   "metadata": {},
   "outputs": [],
   "source": [
    "# define model\n",
    "model = tf.keras.models.Sequential([\n",
    "    keras.layers.Conv2D(64, (3,3), activation='relu', input_shape=(28,28,1)),\n",
    "    keras.layers.MaxPooling2D(2,2),\n",
    "    keras.layers.Conv2D(64,(3,3), activation='relu'),\n",
    "    keras.layers.MaxPooling2D(2,2),\n",
    "    keras.layers.Flatten(),\n",
    "    keras.layers.Dense(128, activation=tf.nn.relu),\n",
    "    keras.layers.Dense(10, activation=tf.nn.softmax)\n",
    "])"
   ]
  },
  {
   "cell_type": "code",
   "execution_count": 8,
   "metadata": {},
   "outputs": [
    {
     "name": "stdout",
     "output_type": "stream",
     "text": [
      "Model: \"sequential\"\n",
      "_________________________________________________________________\n",
      "Layer (type)                 Output Shape              Param #   \n",
      "=================================================================\n",
      "conv2d (Conv2D)              (None, 26, 26, 64)        640       \n",
      "_________________________________________________________________\n",
      "max_pooling2d (MaxPooling2D) (None, 13, 13, 64)        0         \n",
      "_________________________________________________________________\n",
      "conv2d_1 (Conv2D)            (None, 11, 11, 64)        36928     \n",
      "_________________________________________________________________\n",
      "max_pooling2d_1 (MaxPooling2 (None, 5, 5, 64)          0         \n",
      "_________________________________________________________________\n",
      "flatten (Flatten)            (None, 1600)              0         \n",
      "_________________________________________________________________\n",
      "dense (Dense)                (None, 128)               204928    \n",
      "_________________________________________________________________\n",
      "dense_1 (Dense)              (None, 10)                1290      \n",
      "=================================================================\n",
      "Total params: 243,786\n",
      "Trainable params: 243,786\n",
      "Non-trainable params: 0\n",
      "_________________________________________________________________\n"
     ]
    }
   ],
   "source": [
    "# build the model by compiling it with optimizer and loss function\n",
    "model.compile(loss='sparse_categorical_crossentropy',\n",
    "optimizer=tf.compat.v1.train.AdamOptimizer(learning_rate=LR))\n",
    "model.summary()"
   ]
  },
  {
   "cell_type": "code",
   "execution_count": 9,
   "metadata": {},
   "outputs": [
    {
     "name": "stdout",
     "output_type": "stream",
     "text": [
      "Train on 60000 samples\n",
      "Epoch 1/10\n",
      "60000/60000 [==============================] - 42s 704us/sample - loss: 0.4160\n",
      "Epoch 2/10\n",
      "60000/60000 [==============================] - 43s 718us/sample - loss: 0.3068\n",
      "Epoch 3/10\n",
      "60000/60000 [==============================] - 44s 729us/sample - loss: 0.2733\n",
      "Epoch 4/10\n",
      "60000/60000 [==============================] - 44s 725us/sample - loss: 0.2532\n",
      "Epoch 5/10\n",
      "60000/60000 [==============================] - 38s 639us/sample - loss: 0.2371\n",
      "Epoch 6/10\n",
      "60000/60000 [==============================] - 38s 640us/sample - loss: 0.2221\n",
      "Epoch 7/10\n",
      "60000/60000 [==============================] - 38s 640us/sample - loss: 0.2123\n",
      "Epoch 8/10\n",
      "60000/60000 [==============================] - 38s 630us/sample - loss: 0.2019\n",
      "Epoch 9/10\n",
      "60000/60000 [==============================] - 37s 624us/sample - loss: 0.1928\n",
      "Epoch 10/10\n",
      "60000/60000 [==============================] - 37s 621us/sample - loss: 0.1863\n"
     ]
    },
    {
     "data": {
      "text/plain": [
       "<tensorflow.python.keras.callbacks.History at 0x1061dc7f0>"
      ]
     },
     "execution_count": 9,
     "metadata": {},
     "output_type": "execute_result"
    }
   ],
   "source": [
    "# train model\n",
    "model.fit(training_images, training_labels, epochs=num_epochs, callbacks=[callbacks])"
   ]
  },
  {
   "cell_type": "code",
   "execution_count": 10,
   "metadata": {},
   "outputs": [
    {
     "name": "stdout",
     "output_type": "stream",
     "text": [
      "10000/10000 [==============================] - 1s 149us/sample - loss: 0.3592\n"
     ]
    },
    {
     "data": {
      "text/plain": [
       "0.359235534709692"
      ]
     },
     "execution_count": 10,
     "metadata": {},
     "output_type": "execute_result"
    }
   ],
   "source": [
    "# evaluate model\n",
    "model.evaluate(test_images, test_labels)"
   ]
  },
  {
   "cell_type": "code",
   "execution_count": 11,
   "metadata": {},
   "outputs": [
    {
     "name": "stdout",
     "output_type": "stream",
     "text": [
      "[9 2 1 1 6 1 4 6 5 7 4 5 7 3 4 1 2 4 8 0 2 5 7 9 1 4 6 0 9 3 8 8 3 3 8 0 7\n",
      " 5 7 9 6 1 3 7 6 7 2 1 2 2]\n"
     ]
    }
   ],
   "source": [
    "# check first 25 labels\n",
    "print(test_labels[:50])"
   ]
  },
  {
   "cell_type": "code",
   "execution_count": 43,
   "metadata": {},
   "outputs": [
    {
     "data": {
      "image/png": "[encoded data removed]",
      "text/plain": [
       "<Figure size 432x288 with 12 Axes>"
      ]
     },
     "metadata": {
      "needs_background": "light"
     },
     "output_type": "display_data"
    }
   ],
   "source": [
    "# visualize convolutions and pooling\n",
    "first_image = 0\n",
    "second_image = 1\n",
    "third_image = 2\n",
    "convolution_number = 15  # filter number\n",
    "\n",
    "f, axarr = plt.subplots(3,4)\n",
    "# keras API creates a list of each layers output \n",
    "layer_outputs = [layer.output for layer in model.layers]\n",
    "# treat each item/neuron in the layer as an individual activation model\n",
    "activation_model = keras.models.Model(inputs=model.inputs, outputs=layer_outputs)\n",
    "for x in range(4):\n",
    "    # first image model layers outputs\n",
    "    f1 = activation_model.predict(test_images[first_image].reshape(1,28,28,1))[x]\n",
    "    axarr[0,x].imshow(f1[0,:,:,convolution_number], cmap='inferno')\n",
    "    axarr[0,x].grid(False)\n",
    "    axarr[0,x].axis('off')\n",
    "    # second image model layers outputs\n",
    "    f2 = activation_model.predict(test_images[second_image].reshape(1,28,28,1))[x]\n",
    "    axarr[1,x].imshow(f2[0,:,:,convolution_number], cmap='inferno')\n",
    "    axarr[1,x].grid(False)\n",
    "    axarr[1,x].axis('off')\n",
    "    # third image model layers outputs\n",
    "    f3 = activation_model.predict(test_images[third_image].reshape(1,28,28,1))[x]\n",
    "    axarr[2,x].imshow(f3[0,:,:,convolution_number], cmap='inferno')\n",
    "    axarr[2,x].grid(False)\n",
    "    axarr[2,x].axis('off')"
   ]
  },
  {
   "cell_type": "code",
   "execution_count": null,
   "metadata": {},
   "outputs": [],
   "source": []
  },
  {
   "cell_type": "code",
   "execution_count": null,
   "metadata": {},
   "outputs": [],
   "source": []
  }
 ],
 "metadata": {
  "kernelspec": {
   "display_name": "tensorflowkeras_learning",
   "language": "python",
   "name": "tensorflowkeras_learning"
  },
  "language_info": {
   "codemirror_mode": {
    "name": "ipython",
    "version": 3
   },
   "file_extension": ".py",
   "mimetype": "text/x-python",
   "name": "python",
   "nbconvert_exporter": "python",
   "pygments_lexer": "ipython3",
   "version": "3.6.10"
  }
 },
 "nbformat": 4,
 "nbformat_minor": 4
}
